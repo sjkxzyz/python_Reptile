{
 "cells": [
  {
   "cell_type": "markdown",
   "id": "f77da8e0",
   "metadata": {},
   "source": [
    "# 代理的基本原理\n",
    "\n",
    "封IP:有的服务器设置反爬机制，服务器会检测某个IP在单位时间内的请求次数，如果请求次数超过设定的阈值，就直接拒绝提供服务，并返回一些错误信息。\n",
    "为了解决这个问题，需要把我们的IP伪装一下，一种有效的方式就是**使用代理**。"
   ]
  },
  {
   "cell_type": "markdown",
   "id": "5b9c8934",
   "metadata": {},
   "source": [
    "## 1.基本原理\n",
    "\n",
    "**代理实际上就是指代理服务器，功能是代网络用户取得网络信息。**\n",
    "\n",
    "客户端<->代理服务器<->Web服务器"
   ]
  },
  {
   "cell_type": "markdown",
   "id": "afe61dd7",
   "metadata": {},
   "source": [
    "## 2.代理的作用\n",
    "\n",
    "1.突破自身IP访问限制，访问一些平时不能访问的站点。\n",
    "\n",
    "2.访问一些单位或团体的内部资源。比如，使用教育网内地址段的免费代理服务器，就可以下载/上传对教育网开放的各类FTP，也可以查询，共享各类资料等。\n",
    "\n",
    "3.提高访问速度。通常，代理服务器会设置一个较大的硬盘缓冲区，当有外界信息通过时，会同时将其保存到自己的缓冲区中，当其他用户访问相同信息时候，直接从缓冲区中取出信息，提高了访问速度。\n",
    "\n",
    "4.隐藏真实IP。上网者可以通过代理隐藏自己的IP，免受攻击。对于爬虫来说，使用代理就是为了隐藏IP，防止自身IP被封锁。"
   ]
  }
 ],
 "metadata": {
  "kernelspec": {
   "display_name": "Python 3",
   "language": "python",
   "name": "python3"
  },
  "language_info": {
   "codemirror_mode": {
    "name": "ipython",
    "version": 3
   },
   "file_extension": ".py",
   "mimetype": "text/x-python",
   "name": "python",
   "nbconvert_exporter": "python",
   "pygments_lexer": "ipython3",
   "version": "3.8.8"
  }
 },
 "nbformat": 4,
 "nbformat_minor": 5
}
