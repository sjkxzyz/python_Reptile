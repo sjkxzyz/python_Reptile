{
 "cells": [
  {
   "cell_type": "markdown",
   "id": "75d6bc00",
   "metadata": {},
   "source": [
    "# 多线程和多线程的基本原理"
   ]
  },
  {
   "cell_type": "markdown",
   "id": "742dcf68",
   "metadata": {},
   "source": [
    "## 1.多线程的含义\n",
    "\n",
    "### 进程\n",
    "进程可以理解为一个可以独立运行的程序单位。例如打开一个浏览器，就开启了一个浏览器进程；打开一个文本编辑器，就开启了一个文本编辑器进程。在一个进程里面可以处理很多事，例如在一个浏览器进程中，可以在多个选项卡中打开多个页面，有的页面播放音乐，有的页面播放视频，有的页面播放动画，这些任务同时进行彼此不会打扰。（其中一个任务对于一个线程）\n",
    "\n",
    "### 线程\n",
    "进程就是线程的集合，进程是由一个或多个线程构成的，线程是操作系统进行运算调度的最小单位，是进程中的最小运行单元。\n",
    "\n",
    "### 多线程\n",
    "多线程就是一个进程中同时执行多个线程。"
   ]
  },
  {
   "cell_type": "markdown",
   "id": "fce54d97",
   "metadata": {},
   "source": [
    "##  2.并发和并行\n",
    "\n",
    "**并发是指多个线程对应的多条指令被快速轮回地执行。**\n",
    "\n",
    "**并行指同一时刻有多条指令在多个处理器上同时执行，这意味着并行必须依赖多个处理器。** 无论在宏观上还是微观上看，多个线程都是同一时刻一起执行的。 **并行只能存在于多处理系统中**。\n"
   ]
  },
  {
   "cell_type": "code",
   "execution_count": null,
   "id": "b73a0163",
   "metadata": {},
   "outputs": [],
   "source": []
  }
 ],
 "metadata": {
  "kernelspec": {
   "display_name": "Python 3",
   "language": "python",
   "name": "python3"
  },
  "language_info": {
   "codemirror_mode": {
    "name": "ipython",
    "version": 3
   },
   "file_extension": ".py",
   "mimetype": "text/x-python",
   "name": "python",
   "nbconvert_exporter": "python",
   "pygments_lexer": "ipython3",
   "version": "3.8.8"
  }
 },
 "nbformat": 4,
 "nbformat_minor": 5
}
