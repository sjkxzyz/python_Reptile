{
 "cells": [
  {
   "cell_type": "markdown",
   "id": "a9e5a745",
   "metadata": {},
   "source": [
    "# 网页的组成：\n",
    "    网页可以分为三大部分：HTML(骨骼),CSS(皮肤),JavaScript(肌肉)\n",
    "    \n",
    " \n",
    "    "
   ]
  },
  {
   "cell_type": "markdown",
   "id": "e8b1603c",
   "metadata": {},
   "source": [
    "## HTML:\n",
    "     网页包括**文字**，**按钮**，**图片**，和**视频**等各种复杂元素，其基础框架就是HTML。网页通过不同类型标签来表示不同类型元素，如用     **img**标签表示**图片**，**video**表示视频，**p**表示段落，这些标签之间的布局常由布局标签**div**嵌套组合而成，各种标签通过不同的     排列和嵌套形成最终的网页框架。\n",
    "    "
   ]
  },
  {
   "cell_type": "markdown",
   "id": "62c23713",
   "metadata": {},
   "source": [
    "## CSS:\n",
    "    HTML定义了网页的架构，但是只有HTML的页面布局并不美观，有可能只是节点元素的简单排列。为了让网页更好看一些，可以借助CSS来实现。"
   ]
  },
  {
   "cell_type": "markdown",
   "id": "876c6fd4",
   "metadata": {},
   "source": [
    "## JavaScript:\n",
    "    JS实现了用户与网页的交互。"
   ]
  },
  {
   "cell_type": "code",
   "execution_count": null,
   "id": "dd9451a9",
   "metadata": {},
   "outputs": [],
   "source": []
  }
 ],
 "metadata": {
  "kernelspec": {
   "display_name": "Python 3",
   "language": "python",
   "name": "python3"
  },
  "language_info": {
   "codemirror_mode": {
    "name": "ipython",
    "version": 3
   },
   "file_extension": ".py",
   "mimetype": "text/x-python",
   "name": "python",
   "nbconvert_exporter": "python",
   "pygments_lexer": "ipython3",
   "version": "3.8.8"
  }
 },
 "nbformat": 4,
 "nbformat_minor": 5
}
