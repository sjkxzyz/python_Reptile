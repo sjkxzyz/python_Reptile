{
 "cells": [
  {
   "cell_type": "markdown",
   "id": "8bcfda2b",
   "metadata": {},
   "source": [
    "# Session 和 Cookie"
   ]
  },
  {
   "cell_type": "markdown",
   "id": "600f6644",
   "metadata": {},
   "source": [
    "## 1.静态网页和动态网页\n",
    "\n",
    "1. 由HTML代码编写好，文字，图片等内容均通过写好的HTML代码来指定，这种页面叫**静态网页**。静态网页加载速度快，编写简单，同时也存在很大缺陷。如可维护性差，不能根据URL灵活多变地显示内容等。\n",
    "\n",
    "2. 动态网站可以动态解析URL中参数变化，关联数据库并动态呈现不同的页面内容，非常灵活多变。动态网站还可以实现用户登录和注册的功能。"
   ]
  },
  {
   "cell_type": "markdown",
   "id": "7eb4059a",
   "metadata": {},
   "source": [
    "## 2.无状态HTTP\n",
    "\n",
    "HTTP的一个特点就做无状态。HTTP的无状态是指HTTP协议对事务处理是没有记忆能力的，服务器完成一次来自客户端的请求(这个状态完全独立)，服务器不会记录前后状态的变化，也就是缺少状态记录。这意味着，之后如果要处理前面的信息，客户端就必须重传。这样就浪费了资源。\n",
    "\n",
    "这时，两种用于保持HTTP连接状态的技术出现了，分别是Session和Cookie。**Session在服务端(网站的服务器)，用来保存用户的Session信息**；**Cookie在客户端**，有了Cookie,浏览器在下一次访问相同网页时就会自动附带上它，并发送给服务器，服务器通过识别Cookie鉴定出是哪个用户在访问，然后判断此用户是否处于登录状态，并返回对应的响应。可以这样理解，Cookie里保存着登录的凭证，客户端在下次请求时候只需要将其携带上，就不必重新输入用户名和密码等信息重新登录了。**因此，在爬虫中，处理需要先登录才能访问的页面时，我们一般会直接将登录成功后获取的Cookie放在请求头里面直接请求，而不重新模拟登录**。"
   ]
  },
  {
   "cell_type": "markdown",
   "id": "32a722f8",
   "metadata": {},
   "source": [
    "##  3.Session\n",
    "\n",
    "Session,中文称为会话，其本义是指有始有终的一系列动作，消息。而在Web中，Session对象用来存储特定用户Session所需的属性及配置信息。\n",
    "当用户在应用程序的页面之间跳转时，存储在Session对象中的变量将不会丢失，会在整个用户Session中一直存在下去。当用户请求来自应用程序的界面时，如果该用户还没有Session,那么Web服务器将自动创建一个Session对象。当Session**过期**或者**被放弃后**，服务将终止该Session。\n"
   ]
  },
  {
   "cell_type": "markdown",
   "id": "a5c2e86f",
   "metadata": {},
   "source": [
    "## 4.Cookie\n",
    "\n",
    "Cookie指某些网站为了鉴别用户身份，进行Session跟踪而存储在用户本地终端上的数据。\n",
    "\n",
    "### Session维持\n",
    "#### 怎么利用Cookie保存状态呢？\n",
    "在客户端第一次请求服务器时，服务器会返回一个响应头中带有Set-Cookie字段的响应给客户端，这个字段用来标记用户。客户端浏览器会把Cookie保存起来，当下一次请求相同的网站时，把保存的Cookie放到请求头中一起提交给服务器。Cookie中携带着Session ID相关信息，服务器通过检查Cookie即可找到相应的Session,继而通过判断Session辨认用户状态，如果Session当前是有效的，就证明用户处于登录状态，此时服务器返回登录之后才可以查看的网页内容，浏览器再进行解析就可以看到了。\n",
    "反之，如何传给服务器的Cookie是无效的，或者Session已经过期了，客户端将不能继续访问页面，此时可能会收到错误的响应或者跳转到登录页面重新登录。\n",
    "Cookie和Session需要配合，一个在客户端，一个在服务端，二者共同协作，就实现了登录控制。\n",
    "\n"
   ]
  },
  {
   "cell_type": "code",
   "execution_count": null,
   "id": "8f7d1e05",
   "metadata": {},
   "outputs": [],
   "source": []
  }
 ],
 "metadata": {
  "kernelspec": {
   "display_name": "Python 3",
   "language": "python",
   "name": "python3"
  },
  "language_info": {
   "codemirror_mode": {
    "name": "ipython",
    "version": 3
   },
   "file_extension": ".py",
   "mimetype": "text/x-python",
   "name": "python",
   "nbconvert_exporter": "python",
   "pygments_lexer": "ipython3",
   "version": "3.8.8"
  }
 },
 "nbformat": 4,
 "nbformat_minor": 5
}
