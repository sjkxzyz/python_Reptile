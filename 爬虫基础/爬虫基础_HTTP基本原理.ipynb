{
 "cells": [
  {
   "cell_type": "markdown",
   "id": "61ca01bb",
   "metadata": {},
   "source": [
    "URI:统一资源标志符\n",
    "URL:统一资源定位符\n",
    "URL是URI的子集\n",
    "除了URL，URI还有一个子集，叫作URN,即统一资源名称。URN只为资源命名而不指定如何定位资源。URN使用非常少。"
   ]
  },
  {
   "cell_type": "markdown",
   "id": "3f148369",
   "metadata": {},
   "source": [
    "URL基本组成格式：\n",
    "    scheme://[username:password@]hostname[:port][/path][;parameters][?query][#fragment]\n",
    "    其中 []中的内容代表非必要部分。"
   ]
  },
  {
   "cell_type": "markdown",
   "id": "c85bfd65",
   "metadata": {},
   "source": [
    "各部分含义：\n",
    "    scheme:协议。常用的协议有http，https，ftp等，另外scheme也被常称作protocol,两者都代表协议的意思。\n",
    "    username,password:用户名，密码。在某些情况下URL需要用户提供用户名和密码才能访问。\n",
    "    hostname：主机地址。可以为域名或ip地址。\n",
    "    port：端口。这是服务器设定的服务端口。但是有些URL没有端口信息，这是使用了默认的端口。http协议默认端口为80，https默认端口为443.\n",
    "    为什么设置端口?\n",
    "    \n",
    "    path:路径。指的是网络资源在服务器中的指定地址，比如http://github.com/favicon.ico中的path就是favicon.ico，指的是访问Github根目录下的favicon.ico\n",
    "    parameters:参数。用来指定访问某个资源时的附加信息，比如http://8.8.8.8:12345/hello;user中user就是parameters。但是现状parameters用的比较少，所以目前很多人会把query部分称作参数，甚至把parameters和query混用。严格意义说，parameters是分号（;）后面的内容。\n",
    "    \n",
    "    query：查询。用来查询某类资源。如果有多个查询，则用&隔开。比如http://www.baidu.com/s?wd=nba&ie=utf-8,其中query部分就是                 wd=nba&ie=utf-8。由于query比parameters用的多，所以平常我们见到的参数，GET请求参数，parameters，params等称多数指的也是query。         严格意义来说，应该用query来表示。\n",
    "    \n",
    "    fragment:片段。它是对资源描述的部分补充，可以理解为资源内部标签。目前它有两个主要的应用：\n",
    "        1.用作单页面路由，比如现代前端框架Vue，React都可以借助它来做路由管理；\n",
    "        2.用作HTML锚点，用它可以控制一个页面打开时自动下滑滚动到某个特定的位置。"
   ]
  },
  {
   "cell_type": "markdown",
   "id": "3ece819c",
   "metadata": {},
   "source": [
    "HTTP的中文名为超文本传输协议，其作用是把超文本从网络传输到本地浏览器，能够保证高效而准确地传输文本文档。目前被广泛使用的是HTTP1.1版本。现状也有不少网站支持HTTP2.0。\n",
    "\n",
    "HTTPS是以安全为目标的HTTP通道，简单来讲就是HTTP安全版，即在HTTP下加入SSL层，简称HTTPS。\n",
    "HTTPS的安全基础是SSL，因此通过该协议传输的内容都是经过SSL加密的，SSL的主要作用有以下两种：\n",
    "    1.建立一个信息安全通道，保证数据传输的安全性。\n",
    "    2.确定网站的真实性。凡是使用了HTTPS协议的网站，都可以通过单击浏览器地址栏的锁头标志来查看网站认证之后的真实信息，此外还可以通过CA机      构颁发的安全签章来查询。"
   ]
  },
  {
   "cell_type": "markdown",
   "id": "5dabcda9",
   "metadata": {},
   "source": [
    "请求 Request，由客户端发往服务器，分为四部分内容：请求方法（Request Method），请求的网址（Request URL），请求头（Request Headers），请求体（Request Body）\n",
    "    *请求方法：用于标识请求客户端请求服务端的方式，常见的请求方法有两种：GET和POST。\n",
    "        在浏览器中直接输入URL并回车，便发起了一个GET请求，请求的参数会直接包含到URL里。\n",
    "        \n",
    "        POST请求大多在提交表单时发起。例如，对于一个登录表单，输入用户名和密码后，单击“登录”按钮，这是通常会发起一个POST请求，             其数据通常以表形式传输，而不会体现在URL中。\n",
    "            \n",
    "        \n",
    "        GET和POST请求方法有如下区别：\n",
    "             1.GET请求中的参数包含在URL里面，数据可以在URL中看到；而POST请求的URL不会包含这些数据，数据都是通过表单形式传输的，会包               含在请求体中。\n",
    "             \n",
    "             2.GET请求提交的数据最多只有1024字节，POST请求没有限制。\n",
    "        \n",
    "        登录时，需要输入用户名密码，其中密码是敏感信息，如果使用GET方式请求，密码就会暴露在URL里面，造成密码泄露，所以此时最好以POST方         式发送。上传文件时，由于文件内容比较大，因此也会选POST方式。\n",
    "        \n",
    "        \n",
    "        方法                 描述\n",
    "        \n",
    "        GET                  请求页面，并返回页面内容。\n",
    "        HEAD                 类似于GET请求，只不过返回的响应中没有具体内容。用于获取报头。\n",
    "        POST                 大多用于提交表单或上传文件，数据包含在请求体中。\n",
    "        PUT                  用客户端传向服务器的数据取代指定文档中的内容。\n",
    "        DELETE                请求服务器删除指定的界面\n",
    "        CONNECT               把服务器当作跳板，让服务器代替客户端访问其他网页。\n",
    "        OPTIONS               允许客户端查看服务器的性能\n",
    "        TRACE                回显服务器收到的请求。主要用于测试或诊断。\n",
    "\n",
    "\n",
    "    *请求的网址：\n",
    "        请求的网址，它可以唯一确定客户端想请求的资源。\n",
    "        \n",
    "\n",
    "    *请求头：\n",
    "        用来说明服务器要使用的附加信息，比较重要的信息有Cookie，Referer，User-Agent等。\n",
    "        请求头是请求的重要组成，在写爬虫时，通常都需要设定请求头。\n",
    "        Cookie：（Cookies）这是网站为了辨别用户，进行会话跟踪而存储在用户本地的数据。它的主要功能是维护当前访问会话。例如，输入用户名               和密码成功登录某个网站后，服务器会用会话保存登录状态信息，之后每次刷新或请求该站点的其他界面，都会发现处于登录状态，                这就是Cookie的功劳。\n",
    "        \n",
    "        Referer：用于标识请求是从哪个页面发过来的，服务器可以拿到这一信息并做相应的处理，如做来源统计，防盗链处理等。\n",
    "        \n",
    "        User-Agent:简称UA，这是一个特殊的字符串头，可以使用服务器识别到客户端使用的操作系统及版本，浏览器及版本信息。做爬虫时如果加上                此信息，可以伪装为浏览器；如果不加，很可能被识别出来。\n",
    "        \n",
    "\n",
    "    *请求体：\n",
    "        请求体，一般承载的内容是POST请求的表单数据，对于GET请求请求体为空。\n",
    "        在爬虫中，构造POST请求需要使用正确的Content-Type，并了解设置各种请求库的各个参数时使用的都是哪种Content-Type，如若不然可             能会导致POST提交后无法得到正常响应。\n",
    "        "
   ]
  },
  {
   "cell_type": "markdown",
   "id": "9fa9ca46",
   "metadata": {},
   "source": [
    "响应：Response,由服务器返回给客户端，可以分为三部分：响应状态码（Response Status Code),响应头（Response Headers)和响应体（Response Body)\n",
    "\n",
    "    *响应状态码：表示服务器的响应状态，如200代表服务器正常响应，404代表页面未找到，500代表服务器内部发生错误。\n",
    "    \n",
    "    *响应头：包含了服务器对请求的应答信息，如Content-Type,Server,Set-Cookie等。下面简要说明一些常用的响应头信息。\n",
    "        Last-Modified:用于指定资源最后修改时间。\n",
    "        \n",
    "        Server:包含服务器的信息，例如名称，版本号等。\n",
    "        \n",
    "        Set-Cookie:设置Cookie。响应头中的Set-Cookie用于告诉浏览器需要将此内容放在Cookie中，下次请求时将Cookie携带上。\n",
    "        \n",
    "        Expires:用于指定响应的过期时间，可以让代理服务器或浏览器将加载的内容更新到缓存中。当再次访问相同的内容时，就可以直接从缓存中         加载，达到降低服务器负载，缩短加载时间的目的。\n",
    "        \n",
    "\n",
    "    *响应体：\n",
    "        这可以说是最关键的部分。响应的正文数据都存在于响应体中，例如请求网页时，响应体就是网页的HTML代码；请求一张图片时，响应体就是         图片的二进制数据。做爬虫请求网页时，要解析的内容就是响应体。在浏览器开发者工具中单击Preview,就可以看到网页的源代码，也就是响应体的内容，这是爬虫的解析目标。在做爬虫时，我们主要通过响应体得到网页的源代码，JSON数据等，然后从中提取相应内容。"
   ]
  },
  {
   "cell_type": "code",
   "execution_count": null,
   "id": "03395189",
   "metadata": {},
   "outputs": [],
   "source": []
  }
 ],
 "metadata": {
  "kernelspec": {
   "display_name": "Python 3",
   "language": "python",
   "name": "python3"
  },
  "language_info": {
   "codemirror_mode": {
    "name": "ipython",
    "version": 3
   },
   "file_extension": ".py",
   "mimetype": "text/x-python",
   "name": "python",
   "nbconvert_exporter": "python",
   "pygments_lexer": "ipython3",
   "version": "3.8.8"
  }
 },
 "nbformat": 4,
 "nbformat_minor": 5
}
