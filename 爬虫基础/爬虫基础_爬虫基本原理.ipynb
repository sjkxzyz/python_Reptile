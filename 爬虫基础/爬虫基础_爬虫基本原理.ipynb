{
 "cells": [
  {
   "cell_type": "markdown",
   "id": "9aad7d7e",
   "metadata": {},
   "source": [
    "#  爬虫基本原理"
   ]
  },
  {
   "cell_type": "markdown",
   "id": "68a2ddbc",
   "metadata": {},
   "source": [
    "## 1.爬虫概述\n",
    "    \n",
    "简单来讲，爬虫就是获取网页并提取和保存信息的自动化程序。\n",
    "    \n",
    "### *获取网页\n",
    "爬虫的主要工作就是获取网页，这里就是获取网页的源代码。源代码里包含网页的部分有用信息，所以只要获取源代码，就可以从中提取想要         的信息了。向网站的服务器发送一个请求，服务器返回的响应体便是网页源代码。我们可以用python提供的库（如urllib，requests等）完成         HTTP请求操作，请求和响应都可以用类库提供的数据结构来表示，因此得到响应之后只需要解析数据结构中的body部分，即可得到网页的源代         码，这样我们便可以用程序来实现获取网页的过程了。\n",
    "        \n",
    "\n",
    "###  *提取信息\n",
    "获取网页的源码后，接下来就是分析源代码，从中提取我们想要的数据。首先，最通用的提取方法就是采用**正则表达式**，这是一个万能的方法，注意构造正则表达式的过程比较复杂而且容易出错。\n",
    "\n",
    "由于网页结构具有一定的规则，所以还有一些库是根据网页节点属性，CSS选择器或XPath来提取网页信息，如*Beautiful Soup,pyquery,lxml* 等。使用这些库可以高效地从源代码中提取网页信息，如节点的属性，文本值等。\n",
    "\n",
    "**提取信息是爬虫非常重要的一个工作，它可以使杂乱的数据变得条理清晰，以便后续处理和分析数据**。\n",
    "\n",
    "\n",
    "\n",
    "### *保存数据\n",
    "提取信息后，我们一般会将提取到的数据保存到某处以便后续使用。保存数据的形式多种多样，可以简单保存为**TXT文本或JSON文本**，也可以保存到**数据库**，如**MySQL,MongoDB**等，还可以保存至**远程服务器**，如**借助SFTP进行操作**等。\n",
    "\n",
    "\n",
    "### *自动化程序\n",
    "爬虫就是代替我们完成爬取工作的自动化程序，它可以在爬取过程中进行各种异常处理，错误重试等操作，确保爬取持续高效地运行。"
   ]
  },
  {
   "cell_type": "markdown",
   "id": "1c0bb243",
   "metadata": {},
   "source": [
    "## 2.能爬取怎样的数据\n",
    "\n",
    "最常抓取的就是**HTML源代码**，除此还有**JSON字符串**，**网页上的各种二进制数据(如 图片，视频和音频等)**，利用爬虫，我们可以将这些二进制文件抓取下来，然后保存成对应的文件名。除了上述数据，网页还包含各种扩展名文件，如**CSS,JavaScript和配置文件**，上述内容都有其对应的URL，URL基于HTTP或HTTPS协议，只要是这种数据，爬虫都可以抓取。"
   ]
  },
  {
   "cell_type": "markdown",
   "id": "09e9d2fa",
   "metadata": {},
   "source": [
    "## 3.JavaScript渲染的界面\n",
    "\n",
    "1. 有时候，我们在用urllib或requests抓取网页时，得到的源代码和浏览器中实际看到的不一样。这是一个非常常见的问题。现在越来越多网页是采用Ajax，前端模块化工具构建的，可能整个网页都是由JS渲染出来的，也就是说原始HTML代码就是一个空壳。\n",
    "\n",
    "2. 在浏览器打开请求页面时候（被JS渲染的页面)，首先会加载这个HTML内容，接着浏览器会发现其中引入了一个app.js文件，便去请求这个文件。获取这个文件后，执行其中JS代码，JS会改变HTML中的节点，向其中添加内容，最后得到完整的页面。\n",
    "\n",
    "3. 在用urllib,requests等库请求当前页面时，我们得到的只是HTML代码，它不会继续加载JS文件，我们也就无法得到完整的页面内容。对于这种情况，我们**分析源代码后台Ajax接口**，也可以使用**Selenium,Splash,Pyppeteer,Playwright**这样的库来模拟JS渲染。"
   ]
  },
  {
   "cell_type": "code",
   "execution_count": null,
   "id": "bbac6321",
   "metadata": {},
   "outputs": [],
   "source": []
  }
 ],
 "metadata": {
  "kernelspec": {
   "display_name": "Python 3",
   "language": "python",
   "name": "python3"
  },
  "language_info": {
   "codemirror_mode": {
    "name": "ipython",
    "version": 3
   },
   "file_extension": ".py",
   "mimetype": "text/x-python",
   "name": "python",
   "nbconvert_exporter": "python",
   "pygments_lexer": "ipython3",
   "version": "3.8.8"
  }
 },
 "nbformat": 4,
 "nbformat_minor": 5
}
